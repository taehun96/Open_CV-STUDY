{
 "cells": [
  {
   "cell_type": "markdown",
   "id": "ed1b9a29",
   "metadata": {},
   "source": [
    "# 01. 이미지 입력•출력•쓰기"
   ]
  },
  {
   "cell_type": "code",
   "execution_count": 2,
   "id": "5424236c",
   "metadata": {},
   "outputs": [],
   "source": [
    "import cv2 as cv\n",
    "FALL_PATH = \"../images/fall.jpg\"\n",
    "DOG_PNG_PATH = \"../images/dog_png.png\""
   ]
  },
  {
   "cell_type": "markdown",
   "id": "7cd25250",
   "metadata": {},
   "source": [
    "## 1-1. 이미지 입출력\n",
    "- `imread(path)` : 이미지 입력\n",
    "- `imshow(winame, img)` : 이미지 출력\n",
    "- `waitKey(ms)` : ms초 만큼 키 입력을 기다림, 0의 경우 무한대기\n",
    "- `destroyAllWindows()` : 열려 있는 동안 모든 창을 종료"
   ]
  },
  {
   "cell_type": "code",
   "execution_count": null,
   "id": "27881d6e",
   "metadata": {},
   "outputs": [],
   "source": [
    "img = cv.imread(FALL_PATH)\n",
    "# print(img)\n",
    "\n",
    "cv.imshow(\"FALL\", img)\n",
    "\n",
    "key = cv.waitKey(0) # 0 - 무한대기\n",
    "# print(chr(key))\n",
    "\n",
    "cv.destroyAllWindows()"
   ]
  },
  {
   "cell_type": "markdown",
   "id": "c85549eb",
   "metadata": {},
   "source": [
    "## 1-2. 이미지 불러오기 옵션\n",
    "- `cv2.IMREAD_COLOR` : 이미지를 컬러로 불러옴(기본값), 투명배경 무시\n",
    "- `cv2.IMREAD_GRAYSCALE` : 이미지를 흑백으로\n",
    "- `cv2.IMREAD_UNCHANGED` : 이미지를 컬러로, 투명배경 인식(alpha값 포함)\n",
    "    - alpha값 : 이미지의 투명도 정보를 제공"
   ]
  },
  {
   "cell_type": "code",
   "execution_count": 11,
   "id": "92ee9a0c",
   "metadata": {},
   "outputs": [],
   "source": [
    "img_default = cv.imread(DOG_PNG_PATH, cv.IMREAD_COLOR)\n",
    "img_gray = cv.imread(DOG_PNG_PATH, cv.IMREAD_GRAYSCALE)\n",
    "img_unchanged = cv.imread(DOG_PNG_PATH, cv.IMREAD_UNCHANGED)\n",
    "\n",
    "# print(img_gray)\n",
    "# print(img_unchanged)\n",
    "\n",
    "cv.imshow(\"Default\", img_default)\n",
    "cv.imshow(\"Grayscale\", img_gray)\n",
    "cv.imshow(\"Unchanged\", img_unchanged)\n",
    "\n",
    "cv.waitKey(0)\n",
    "cv.destroyAllWindows()"
   ]
  },
  {
   "cell_type": "markdown",
   "id": "08caad15",
   "metadata": {},
   "source": [
    "## 1-3. 이미지 Shape\n",
    "- 이미지의 구조를 출력해줌\n",
    "- 세로, 가로, 채널 출력"
   ]
  },
  {
   "cell_type": "code",
   "execution_count": 12,
   "id": "89301e7a",
   "metadata": {},
   "outputs": [
    {
     "name": "stdout",
     "output_type": "stream",
     "text": [
      "Default shape (476, 320, 3)\n",
      "Grayscale shape (476, 320)\n",
      "Unchanged shape (476, 320, 4)\n"
     ]
    }
   ],
   "source": [
    "img_default = cv.imread(DOG_PNG_PATH, cv.IMREAD_COLOR)\n",
    "img_gray = cv.imread(DOG_PNG_PATH, cv.IMREAD_GRAYSCALE)\n",
    "img_unchanged = cv.imread(DOG_PNG_PATH, cv.IMREAD_UNCHANGED)\n",
    "\n",
    "print(\"Default shape\", img_default.shape)\n",
    "print(\"Grayscale shape\", img_gray.shape)\n",
    "print(\"Unchanged shape\", img_unchanged.shape)"
   ]
  },
  {
   "cell_type": "markdown",
   "id": "27eb24e2",
   "metadata": {},
   "source": [
    "## 1-4. 이미지 쓰기\n",
    "- `imwrite(path, img)` : 불러온 이미지를 파일로 생성"
   ]
  },
  {
   "cell_type": "code",
   "execution_count": 15,
   "id": "573011bd",
   "metadata": {},
   "outputs": [
    {
     "data": {
      "text/plain": [
       "True"
      ]
     },
     "execution_count": 15,
     "metadata": {},
     "output_type": "execute_result"
    }
   ],
   "source": [
    "img = cv.imread(FALL_PATH)\n",
    "cv.imwrite(\"../output/fall_copy.jpg\", img)"
   ]
  },
  {
   "cell_type": "code",
   "execution_count": 3,
   "id": "ee7d3979",
   "metadata": {},
   "outputs": [],
   "source": [
    "# 실습1. 원하는 이미지 띄우기\n",
    "# 원하는 이미지를 찾아서 기본 이미지와 흑백 이미지 각각 띄우기\n",
    "Red_Panda_PATH = \"../images/red panda.png\"\n",
    "img_default = cv.imread(Red_Panda_PATH, cv.IMREAD_COLOR)\n",
    "img_gray = cv.imread(Red_Panda_PATH, cv.IMREAD_GRAYSCALE)\n",
    "\n",
    "cv.imshow(\"Default\", img_default)\n",
    "cv.imshow(\"Grayscale\", img_gray)\n",
    "\n",
    "cv.waitKey(0)\n",
    "cv.destroyAllWindows()"
   ]
  }
 ],
 "metadata": {
  "kernelspec": {
   "display_name": "cv_learn",
   "language": "python",
   "name": "python3"
  },
  "language_info": {
   "codemirror_mode": {
    "name": "ipython",
    "version": 3
   },
   "file_extension": ".py",
   "mimetype": "text/x-python",
   "name": "python",
   "nbconvert_exporter": "python",
   "pygments_lexer": "ipython3",
   "version": "3.13.5"
  }
 },
 "nbformat": 4,
 "nbformat_minor": 5
}
