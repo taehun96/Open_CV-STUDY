{
 "cells": [
  {
   "cell_type": "markdown",
   "id": "c01009bd",
   "metadata": {},
   "source": [
    "# 04. 도형 그리기"
   ]
  },
  {
   "cell_type": "code",
   "execution_count": 1,
   "id": "e8d23951",
   "metadata": {},
   "outputs": [],
   "source": [
    "import cv2 as cv\n",
    "import numpy as np"
   ]
  },
  {
   "cell_type": "markdown",
   "id": "2d2a45c9",
   "metadata": {},
   "source": [
    "# 4-1. 선 그리기\n",
    "- `cv2.line(img, start, end, color, thickness, lineType)`\n",
    "- 라인 타입\n",
    "    - cv2.LINE_4 : 상하좌우 4방향으로 연결된 선\n",
    "    - cv2.LINE_8 : 대각선을 포함한 8 방향 연결된 선 (기본값)\n",
    "    - cv2.LINE_AA : 부드러운 선(anti-aliasing 적용)"
   ]
  },
  {
   "cell_type": "code",
   "execution_count": 8,
   "id": "941fb38c",
   "metadata": {},
   "outputs": [],
   "source": [
    "img = np.zeros((460, 640, 3), dtype=np.uint8)\n",
    "\n",
    "COLOR = (0,255,255)\n",
    "THICKNNESS = 5\n",
    "\n",
    "cv.line(img, (100,100), (300,300), COLOR, THICKNNESS, cv.LINE_4)\n",
    "cv.line(img, (150,100), (350,300), COLOR, THICKNNESS, cv.LINE_8)\n",
    "cv.line(img, (200,100), (400,300), COLOR, THICKNNESS, cv.LINE_AA)\n",
    "\n",
    "\n",
    "cv.imshow(\"line\", img)\n",
    "\n",
    "cv.waitKey(0)\n",
    "cv.destroyAllWindows()"
   ]
  },
  {
   "cell_type": "markdown",
   "id": "99918c31",
   "metadata": {},
   "source": [
    "## 4-2. 원그리기\n",
    "- `cv2.circle(img, center, radius, color,thickness, lineType)`\n",
    "- `cv2.FILLED` : 도형의 속을 채우는 옵션, thickness에 넣어줌"
   ]
  },
  {
   "cell_type": "code",
   "execution_count": null,
   "id": "06547218",
   "metadata": {},
   "outputs": [],
   "source": [
    "img = np.zeros((460, 640, 3), dtype=np.uint8)\n",
    "\n",
    "RADIUS = 80\n",
    "COLOR = (0,255,0)\n",
    "THICKNNESS = 10\n",
    "\n",
    "# 속이 비어있는 원\n",
    "cv.circle(img, (200,200), RADIUS, COLOR, THICKNNESS, cv.LINE_AA)\n",
    "\n",
    "# 속이 찬 원\n",
    "cv.circle(img, (400,200), RADIUS, COLOR, cv.FILLED, cv.LINE_AA)\n",
    "\n",
    "cv.imshow(\"Circle\", img)\n",
    "\n",
    "cv.waitKey(0)\n",
    "cv.destroyAllWindows()"
   ]
  },
  {
   "cell_type": "markdown",
   "id": "2d86d210",
   "metadata": {},
   "source": [
    "## 4-3. 타원 그리기\n",
    "- `cv2.ellipse(img, center, axes, angle, startAngle, endAngle, color, thickness, lineType)`\n",
    "    - Center: 타원의 중심\n",
    "    - axes : 타원의 반경 크기 설정\n",
    "    - angle : 타원 회전 각도\n",
    "    - startAngle : 타원 호의 시작 각도\n",
    "    - endAngle : 타원 호의 끝 각도"
   ]
  },
  {
   "cell_type": "code",
   "execution_count": 12,
   "id": "8bfe027a",
   "metadata": {},
   "outputs": [],
   "source": [
    "img = np.zeros((460, 640, 3), dtype=np.uint8)\n",
    "\n",
    "cv.ellipse(img, (320, 230), (100, 50), 30, 0, 270, (0,0,255), 5, cv.LINE_AA)\n",
    "\n",
    "cv.imshow(\"Ellipse\", img)\n",
    "\n",
    "cv.waitKey(0)\n",
    "cv.destroyAllWindows()"
   ]
  },
  {
   "cell_type": "markdown",
   "id": "e53fa864",
   "metadata": {},
   "source": [
    "## 4-4. 사각형 그리기\n",
    "- `cv2.rectangle(img, strart, end, color, thickness, lineType)`"
   ]
  },
  {
   "cell_type": "code",
   "execution_count": 15,
   "id": "8ea1af16",
   "metadata": {},
   "outputs": [],
   "source": [
    "img = np.zeros((460, 640, 3), dtype=np.uint8)\n",
    "\n",
    "COLOR = (242, 235, 141)\n",
    "THICKNNESS = 5\n",
    "\n",
    "# 속이 비어있는 사각형\n",
    "cv.rectangle(img, (150, 100), (250, 200), COLOR, THICKNNESS, cv.LINE_AA)\n",
    "\n",
    "# 속이 꽉 찬 사각형\n",
    "cv.rectangle(img, (300, 100), (400, 200), COLOR, cv.FILLED, cv.LINE_AA)\n",
    "\n",
    "cv.imshow(\"Rectangle\", img)\n",
    "\n",
    "cv.waitKey(0)\n",
    "cv.destroyAllWindows()"
   ]
  },
  {
   "cell_type": "markdown",
   "id": "2f4a27dd",
   "metadata": {},
   "source": [
    "## 4-5. 다각형(선) 그리기\n",
    "- `cv2.polylines(img, pts, isClosed, color, thickness, lineType)`\n",
    "    - pts : 다각형 선분의 배열(NumPy 배열)\n",
    "    - isClosed : 다각형을 닫을지를 결정"
   ]
  },
  {
   "cell_type": "code",
   "execution_count": 20,
   "id": "e66a0c85",
   "metadata": {},
   "outputs": [],
   "source": [
    "img = np.zeros((460, 640, 3), dtype=np.uint8)\n",
    "\n",
    "pts = np.array([[[100,100],[200,100],[100,200],[200,200]]])\n",
    "\n",
    "cv.polylines(img, pts, True, (255,255,255), 5)\n",
    "\n",
    "cv.imshow(\"Polylines\", img)\n",
    "\n",
    "cv.waitKey(0)\n",
    "cv.destroyAllWindows()"
   ]
  },
  {
   "cell_type": "markdown",
   "id": "e5a03ae2",
   "metadata": {},
   "source": [
    "## 4-6. 다각형(채우기) 그리기\n",
    "- `cv2.fillPoly(img, pts, color)`"
   ]
  },
  {
   "cell_type": "code",
   "execution_count": 22,
   "id": "f2fb6c03",
   "metadata": {},
   "outputs": [],
   "source": [
    "img = np.zeros((460, 640, 3), dtype=np.uint8)\n",
    "\n",
    "pts = np.array([[[200,200], [300,200], [200, 300]]])\n",
    "\n",
    "cv.fillPoly(img, pts, (255,255,255))\n",
    "\n",
    "cv.imshow(\"Fillpoly\", img)\n",
    "\n",
    "cv.waitKey(0)\n",
    "cv.destroyAllWindows()"
   ]
  },
  {
   "cell_type": "code",
   "execution_count": null,
   "id": "a48e0c27",
   "metadata": {},
   "outputs": [],
   "source": [
    "# 실습1. 도형 그려보기\n",
    "# 640 x 480 사이즈의 빈 화면에 \n",
    "# 선, 원, 타원, 사각형, 다각형 (선/채우기 각각) 화면에 그려보기\n",
    "# 도형의 색상을 각각 다르게 설정하기\n",
    "\n",
    "img = np.zeros((480, 640, 3), dtype=np.uint8)\n",
    "\n",
    "# 선(Line)\n",
    "cv.line(img, (30, 40), (300, 100), (77,93,214), thickness=5, lineType=cv.LINE_AA)\n",
    "\n",
    "# 원(Circle)\n",
    "cv.circle(img, (520, 110), 60, (87,156,247), thickness=5)\n",
    "cv.circle(img, (520, 110), 45, (87,156,247), cv.FILLED, cv.LINE_AA)\n",
    "\n",
    "# 타원(Ellipse)\n",
    "cv.ellipse(img, (140, 260), (80, 40), 20, 0, 270, (87,231,247), 5, cv.LINE_AA)\n",
    "\n",
    "# 사각형(Rectangle)\n",
    "cv.rectangle(img, (260, 210), (420, 310), (215,247,87), 5, cv.LINE_AA) \n",
    "cv.rectangle(img, (270, 220), (410, 300), (200, 200, 255), cv.FILLED, cv.LINE_AA)\n",
    "\n",
    "# 다각형(Polygon) 선\n",
    "pts = np.array([[[100,100],[200,100],[100,200],[200,200]]])\n",
    "cv.polylines(img, pts, True, (247,221,7), 5)\n",
    "\n",
    "# 다각형(Polygon) 채우기\n",
    "pts = np.array([[[200,200], [300,200], [200, 300]]])\n",
    "cv.fillPoly(img, pts, (247,156,87))\n",
    "\n",
    "cv.imshow(\"Practice\", img)\n",
    "\n",
    "cv.waitKey(0)\n",
    "cv.destroyAllWindows()\n"
   ]
  },
  {
   "cell_type": "markdown",
   "id": "701d31be",
   "metadata": {},
   "source": [
    "## 4-7. 텍스트 그리기(영어)\n",
    "- `cv2.putText(img, text, position, font, scale, color, thickness)`"
   ]
  },
  {
   "cell_type": "code",
   "execution_count": 34,
   "id": "9241cd76",
   "metadata": {},
   "outputs": [],
   "source": [
    "img = np.zeros((460, 640, 3), dtype=np.uint8)\n",
    "\n",
    "SCALE = 1\n",
    "COLOR = (255, 255, 255)\n",
    "THICKNNESS = 2\n",
    "\n",
    "cv.putText(img, \"Hello World!\", (100,100), cv.FONT_HERSHEY_DUPLEX, SCALE, COLOR, THICKNNESS)\n",
    "cv.putText(img, \"OpenCV Study\", (100,200), cv.FONT_HERSHEY_PLAIN | cv.FONT_ITALIC, SCALE, COLOR, THICKNNESS)\n",
    "# 한글 입력 지원 X\n",
    "cv.putText(img, \"안녕하세요\", (100,300), cv.FONT_HERSHEY_PLAIN | cv.FONT_ITALIC, SCALE, COLOR, THICKNNESS)\n",
    "\n",
    "cv.imshow(\"Text(eng)\", img)\n",
    "\n",
    "cv.waitKey(0)\n",
    "cv.destroyAllWindows()"
   ]
  },
  {
   "cell_type": "markdown",
   "id": "97f272fb",
   "metadata": {},
   "source": [
    "## 4-8. 텍스트 그리기(한글)\n",
    "- OpenCV에서는 한글 텍스트 그리기 지원X → 우회적 방법 사용\n",
    "- 가상환경에 pip install pillow 설치"
   ]
  },
  {
   "cell_type": "code",
   "execution_count": null,
   "id": "987600ee",
   "metadata": {},
   "outputs": [],
   "source": [
    "from PIL import Image, ImageDraw, ImageFont\n",
    "\n",
    "img = np.zeros((460, 640, 3), dtype=np.uint8)\n",
    "\n",
    "def putKorText(img, text, pos, font_size, font_color):\n",
    "    img_pil = Image.fromarray(img) # OpenCV의 NUMPY 배열 이미지를 PIL 이미지로 변환\n",
    "    draw = ImageDraw.Draw(img_pil) # PIL 이미지에 글씨를 그릴 수 있도록 Draw 객체 생성\n",
    "    font = ImageFont.truetype(\"fonts/gulim.ttc\", font_size) # 폰트 설정\n",
    "    draw.text(pos, text, font=font, fill=font_color) # PIL에서 텍스트 출력\n",
    "    return np.array(img_pil) # NumPy 배열로 변환하여 반환\n",
    "\n",
    "text = putKorText(img, \"RE3 화이팅!!\", (225, 225), 30, (255, 255, 255))\n",
    "\n",
    "cv.imshow(\"Text(kor)\", text)\n",
    "cv.waitKey(0)\n",
    "cv.destroyAllWindows()"
   ]
  }
 ],
 "metadata": {
  "kernelspec": {
   "display_name": "cv_learn",
   "language": "python",
   "name": "python3"
  },
  "language_info": {
   "codemirror_mode": {
    "name": "ipython",
    "version": 3
   },
   "file_extension": ".py",
   "mimetype": "text/x-python",
   "name": "python",
   "nbconvert_exporter": "python",
   "pygments_lexer": "ipython3",
   "version": "3.13.5"
  }
 },
 "nbformat": 4,
 "nbformat_minor": 5
}
