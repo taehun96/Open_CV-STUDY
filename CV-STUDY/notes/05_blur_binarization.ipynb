{
 "cells": [
  {
   "cell_type": "markdown",
   "id": "1fc91017",
   "metadata": {},
   "source": [
    "# 05. 블러와 이진화"
   ]
  },
  {
   "cell_type": "code",
   "execution_count": null,
   "id": "dd4d6f48",
   "metadata": {},
   "outputs": [],
   "source": [
    "import cv2 as cv\n",
    "import numpy as np\n",
    "DOG_PATH = \"../images/dog.jpg\"\n",
    "BOOK_PATH = \"../images/book.jpg\""
   ]
  },
  {
   "cell_type": "markdown",
   "id": "87f56870",
   "metadata": {},
   "source": [
    "## 5-1. 블러\n",
    "- `cv2.blur(img, kernel)` : 단순 평균 방식\n",
    "- `cv2.GaussianBlur(img, kernel, 표준편차)` : 가우시안 평균 방식\n",
    "- `cv2.medianBlur(img, kernel)` : 중앙값 사용 방식\n",
    "- Gaussian Blur : 중앙 픽셀에 가장 높은 비중(가중치)를 주고, 멀리 떨어진 주변 픽셀일수로 비중을 점점 작게 주는 방식으로 이미지를 부드럽게 흐리게 만듬\n",
    "- Kernel : 이미지 위에서 특정 픽셀과 그 주변 픽셀을 참고하여 새로운 값을 계산하는 도구\n",
    "- 참조하는 범위가 작으면 블러가 약해지고, 참조하는 범위가 넓으면 블러가 강해집니다."
   ]
  },
  {
   "cell_type": "code",
   "execution_count": null,
   "id": "2a456c2f",
   "metadata": {},
   "outputs": [],
   "source": [
    "img = cv.imread(DOG_PATH)\n",
    "\n",
    "# 1. 평균 블러\n",
    "blur_avg = cv.blur(img, (7,7))\n",
    "\n",
    "# 2. 가우시안 블러\n",
    "blur_gaussian = cv.GaussianBlur(img, (7,7), 0) # 0을 넣으면 자동계산\n",
    "\n",
    "cv.imshow(\"Original\", img)\n",
    "cv.imshow(\"Blur\", blur_avg)\n",
    "cv.imshow(\"Gaussian\", blur_gaussian)\n",
    "\n",
    "cv.waitKey(0)\n",
    "cv.destroyAllWindows()"
   ]
  },
  {
   "cell_type": "code",
   "execution_count": null,
   "id": "d4fe5cf0",
   "metadata": {},
   "outputs": [],
   "source": [
    "# 커널 사이즈 변화에 따른 차이\n",
    "img = cv.imread(DOG_PATH)\n",
    "\n",
    "kernel_3 = cv.GaussianBlur(img, (3,3), 0)\n",
    "kernel_5 = cv.GaussianBlur(img, (5,5), 0)\n",
    "kernel_7 = cv.GaussianBlur(img, (7,7), 0)\n",
    "\n",
    "cv.imshow(\"kernel_3\", kernel_3)\n",
    "cv.imshow(\"kernel_5\", kernel_5)\n",
    "cv.imshow(\"kernel_7\", kernel_7)\n",
    "\n",
    "cv.waitKey(0)\n",
    "cv.destroyAllWindows()"
   ]
  },
  {
   "cell_type": "code",
   "execution_count": null,
   "id": "5a816cc0",
   "metadata": {},
   "outputs": [],
   "source": [
    "# 표준편차 변화에 따른 차이\n",
    "# 블러의 퍼지는 정도와 강도를 결정\n",
    "img = cv.imread(DOG_PATH)\n",
    "\n",
    "sigma_1 = cv.GaussianBlur(img, (0,0), 1)\n",
    "sigma_2 = cv.GaussianBlur(img, (0,0), 2)\n",
    "sigma_3 = cv.GaussianBlur(img, (0,0), 3)\n",
    "\n",
    "cv.imshow(\"sigma_1\", sigma_1)\n",
    "cv.imshow(\"sigma_2\", sigma_2)\n",
    "cv.imshow(\"sigma_3\", sigma_3)\n",
    "\n",
    "cv.waitKey(0)\n",
    "cv.destroyAllWindows()"
   ]
  },
  {
   "cell_type": "markdown",
   "id": "3f4b329e",
   "metadata": {},
   "source": [
    "## 5-2 이진화(Binarization)\n",
    "- 특정 값을 기준으로 픽셀의 값을 0(검은색) 또는 255(흰색)로 나누는 것\n",
    "- 분석을 단순화하기 위해 사용\n",
    "- 특정 관심 영역을 분리하는데 용이함\n",
    "\n",
    "### Threshold : 임계값, 문턱값\n",
    "- 기준값의 역할을 함\n",
    "- 빛의 밝기를 기준으로 픽셀 값을 변환\n",
    "- `cv2.threshold(img, threshold, maxValue, type)`\n",
    "- 이진화 하기 전에 `cv.IMREAD_GRAYSCALE` 이미지로 변환 하는 이유\n",
    "    - 컬러 이미지보다 단순하고 안정적인 기준을 사용할 수 있기 때문\n",
    "    - 이진화의 정확성을 높이고 연산을 단순화하기 위함"
   ]
  },
  {
   "cell_type": "code",
   "execution_count": null,
   "id": "7339c311",
   "metadata": {},
   "outputs": [],
   "source": [
    "img = cv.imread(BOOK_PATH, cv.IMREAD_GRAYSCALE)\n",
    "resized =cv.resize(img, None, fx=0.5, fy=0.5)\n",
    "\n",
    "ret, binary = cv.threshold(resized, 127, 255, cv.THRESH_BINARY)\n",
    "# print(ret, binary)\n",
    "\n",
    "cv.imshow(\"img\", resized)\n",
    "cv.imshow(\"binary\", binary)\n",
    "\n",
    "cv.waitKey(0)\n",
    "cv.destroyAllWindows()"
   ]
  },
  {
   "cell_type": "markdown",
   "id": "7a30e9d1",
   "metadata": {},
   "source": [
    "### 트랙바(Track bar)\n",
    "- `cv2.createTrackbar(trackbarName, name, startValue, maxValue, callback)` : 트랙바 생성\n",
    "- `cv2.getTrackbarPos(trackbarName, name)` : 트랙바의 값을 가져옴"
   ]
  },
  {
   "cell_type": "code",
   "execution_count": null,
   "id": "d28de70a",
   "metadata": {},
   "outputs": [],
   "source": [
    "img = cv.imread(BOOK_PATH, cv.IMREAD_GRAYSCALE)\n",
    "resized =cv.resize(img, None, fx=0.5, fy=0.5)\n",
    "\n",
    "# 윈도우 창 이름 설정\n",
    "name = \"Threshold\"\n",
    "cv.namedWindow(name) # OpenCV에서 윈도우 창 생성\n",
    "\n",
    "# 트랙바 콜백 함수(슬라이더 움직일 때 호출)\n",
    "# def trackbar_func(x):\n",
    "#     pass # 현재는 기능이 필요 없으므로 pass로 처리\n",
    "\n",
    "# 트랙바(슬라이더) 생성\n",
    "trackbar_name = \"threshold\"\n",
    "# (트랙바 이름, 윈도우 이름, 초기값, 최댓값, 콜백함수)\n",
    "# cv.createTrackbar(trackbar_name, name, 127, 255, trackbar_func)\n",
    "cv.createTrackbar(trackbar_name, name, 127, 255, lambda x:x)\n",
    "\n",
    "# 실시간으로 이진화 처리 및 화면 출력\n",
    "while True:\n",
    "    # 현재 트랙바 위치 값 가져오기 → threshold 값으로 사용\n",
    "    threshold = cv.getTrackbarPos(trackbar_name, name)\n",
    "    # threshold() 함수로 이진화 수행\n",
    "    ret, binary = cv.threshold(resized, threshold, 255, cv.THRESH_BINARY)\n",
    "    # 이진화된 결과 이미지를 화면에 출력\n",
    "    cv.imshow(name, binary)\n",
    "\n",
    "    # 'q' 키 입력 시 반복 종료\n",
    "    if cv.waitKey(1) == ord(\"q\"):\n",
    "        break\n",
    "\n",
    "cv.destroyAllWindows()"
   ]
  },
  {
   "cell_type": "code",
   "execution_count": null,
   "id": "1bf7fdc5",
   "metadata": {},
   "outputs": [],
   "source": [
    "# cv.destroyAllWindows()\n",
    "\n",
    "img = cv.imread(DOG_PATH)\n",
    "\n",
    "name = \"Resize\"\n",
    "cv.namedWindow(name)\n",
    "\n",
    "# 트랙바(슬라이더) 생성\n",
    "# 초기값: 100 (원본 크기 100%)\n",
    "# 최댓값: 200 (최대 2배 확대)\n",
    "# 콜백 함수: lambda x:x (동작은 필요 없으므로 단순 반환)\n",
    "trackbar_name = \"scale(%)\"\n",
    "cv.createTrackbar(trackbar_name, name, 100, 200, lambda x:x)\n",
    "\n",
    "# 실시간 크기 조절\n",
    "while True:\n",
    "    # 트랙바에서 현재 값(비율)을 가져오기\n",
    "    scale = cv.getTrackbarPos(trackbar_name, name)\n",
    "\n",
    "    # 트랙바 값이 0일때 최소값을 1로 강제 설정\n",
    "    # 0이 되어버리면 가로 세로 크기가 0이 되어 버려 함수 오류를 발생시키기 때문\n",
    "    # 최소 1%로 처리하여 오류를 방지\n",
    "    if scale == 0:\n",
    "        scale = 1\n",
    "\n",
    "    # 새로운 이미지 크기 계산\n",
    "    width = int(img.shape[1] * scale / 100)\n",
    "    height = int(img.shape[0] * scale / 100)\n",
    "    # cv.resize로 이미지 크기 조절\n",
    "    resized = cv.resize(img, (width,height))\n",
    "\n",
    "    # 크기 조절된 이미지를 출력\n",
    "    cv.imshow(name, resized)\n",
    "\n",
    "    if cv.waitKey(1) == ord(\"q\"):\n",
    "        break\n",
    "\n",
    "cv.destroyAllWindows()"
   ]
  },
  {
   "cell_type": "code",
   "execution_count": null,
   "id": "f145973d",
   "metadata": {},
   "outputs": [],
   "source": [
    "# 실습 2-2 컬러 팔레트 만들기\n",
    "img = np.zeros((460, 640, 3), dtype=np.uint8)\n",
    "\n",
    "name = \"image\"\n",
    "cv.namedWindow(name)\n",
    "\n",
    "# 1. RGB값을 변경할 수 있는 트랙바를 만들고\n",
    "cv.createTrackbar(\"R\", name, 0, 255, lambda x:x)\n",
    "cv.createTrackbar(\"G\", name, 0, 255, lambda x:x)\n",
    "cv.createTrackbar(\"B\", name, 0, 255, lambda x:x)\n",
    "# 4. 1~3이 마무리 되었다면 트랙바의 작동을 제어할 수 있는 on / off 스위치도 추가로 구현해본다.\n",
    "cv.createTrackbar(\"Switch\", name, 0, 1, lambda x:x)\n",
    "\n",
    "while True:\n",
    "    # 3. 기본 색상은 검은색으로 설정\n",
    "    red = cv.getTrackbarPos(\"R\", name)\n",
    "    green = cv.getTrackbarPos(\"G\", name)\n",
    "    blue = cv.getTrackbarPos(\"B\", name)\n",
    "    switch = cv.getTrackbarPos(\"Switch\", name)\n",
    "    # 2. RGB값이 바뀜에 따라 배경색이 변하는 화면을 만들어 보자!\n",
    "    if switch == 1: # switch가 1이 되면 색상이 작동\n",
    "        img[:] = (blue, green, red)\n",
    "    else:\n",
    "        img[:] = (0, 0, 0) # switch가 0이 되면 배경색 검은색\n",
    "\n",
    "    cv.imshow(name, img)\n",
    "\n",
    "    if cv.waitKey(1) == ord(\"q\"):\n",
    "        break\n",
    "\n",
    "cv.destroyAllWindows()\n"
   ]
  },
  {
   "cell_type": "markdown",
   "id": "156ea1c3",
   "metadata": {},
   "source": [
    "## 5-3. 적응형 이진화(Adaptive threshold)\n",
    "- 영역별로 서로 다른 임계값을 적용하는 이진화\n",
    "- `cv2.adaptiveThreshold(img, maxValue, adaptiveMethod, thresholdType, blockSize, C)`\n",
    "    - blockSize : 픽셀의 임계값을 계산하는 데 사용되는 픽셀 근처의 크기(1보다 큰 홀수)\n",
    "    - C : 평균 또는 가중 평균에서 뺀 상수\n",
    "    - adaptiveMethod : cv.ADAPTIVE_THRESH_MEAN_C, cv.ADAPTIVE_THRESH_GAUSSIAN_C"
   ]
  },
  {
   "cell_type": "code",
   "execution_count": null,
   "id": "a7557c54",
   "metadata": {},
   "outputs": [],
   "source": [
    "img = cv.imread(BOOK_PATH, cv.IMREAD_GRAYSCALE)\n",
    "name = \"Adaptive Threshold\"\n",
    "cv.namedWindow(name)\n",
    "\n",
    "cv.createTrackbar(\"block_size\", name, 25, 100, lambda x:x) # 1보다 큰 홀수만 가능\n",
    "cv.createTrackbar(\"C\", name, 1, 10, lambda x:x) # 양수를 사용\n",
    "\n",
    "while True:\n",
    "    block_size = cv.getTrackbarPos(\"block_size\", name)\n",
    "    C = cv.getTrackbarPos(\"C\", name)\n",
    "\n",
    "    if block_size <= 1:\n",
    "        block_size = 3\n",
    "\n",
    "    if block_size % 2 == 0:\n",
    "        block_size += 1\n",
    "\n",
    "    binary = cv.adaptiveThreshold(img, 255, cv.ADAPTIVE_THRESH_GAUSSIAN_C, cv.THRESH_BINARY, block_size, C)\n",
    "\n",
    "    cv.imshow(name, binary)\n",
    "\n",
    "    if cv.waitKey(1) == ord(\"q\"):\n",
    "        break\n",
    "\n",
    "cv.destroyAllWindows()"
   ]
  },
  {
   "cell_type": "markdown",
   "id": "368d6fe8",
   "metadata": {},
   "source": [
    "## 5-4. 오츠 알고리즘\n",
    "- 최적의 threshold를 찾는 알고리즘\n",
    "    - 두 그룹(검은색과 흰색)간의 평균값 차이를 최대화하면서\n",
    "    - 각 그룹 내부의 분산(값의 퍼짐)을 최소화하는 임계값을 찾는것을 목표\n",
    "- 이미지의 명암이 뚜렷할 때 효과적"
   ]
  },
  {
   "cell_type": "code",
   "execution_count": 7,
   "id": "26ae2a97",
   "metadata": {},
   "outputs": [],
   "source": [
    "img = cv.imread(BOOK_PATH, cv.IMREAD_GRAYSCALE)\n",
    "\n",
    "ret_1, binary = cv.threshold(img, 127, 255, cv.THRESH_BINARY)\n",
    "ret_2, otsu = cv.threshold(img, -1, 255, cv.THRESH_BINARY | cv.THRESH_OTSU)\n",
    "# print(ret_1, ret_2)\n",
    "\n",
    "cv.imshow(\"img\", binary)\n",
    "cv.imshow(\"otsu\", otsu)\n",
    "\n",
    "cv.waitKey(0)\n",
    "cv.destroyAllWindows()"
   ]
  }
 ],
 "metadata": {
  "kernelspec": {
   "display_name": "cv_learn",
   "language": "python",
   "name": "python3"
  },
  "language_info": {
   "codemirror_mode": {
    "name": "ipython",
    "version": 3
   },
   "file_extension": ".py",
   "mimetype": "text/x-python",
   "name": "python",
   "nbconvert_exporter": "python",
   "pygments_lexer": "ipython3",
   "version": "3.13.5"
  }
 },
 "nbformat": 4,
 "nbformat_minor": 5
}
