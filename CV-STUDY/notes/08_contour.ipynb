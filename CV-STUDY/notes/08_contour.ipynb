{
 "cells": [
  {
   "cell_type": "markdown",
   "id": "62ec0eb2",
   "metadata": {},
   "source": [
    "# 08. 윤곽선\n",
    "- 윤곽선(contour) : 같은 색상(빛의 강도)을 가진 영역의 경계선을 연결한 곡선\n",
    "\n",
    "## 윤곽선 그리는 방법\n",
    "1. 엣지를 찾는다(Threshold/Canny)\n",
    "2. 윤곽선을 생성해서 데이터로 저장(findContours)\n",
    "3. 이미지 위에 윤곽선을 그림(drawContours)\n",
    "\n",
    "## 윤곽선 찾기 모드\n",
    "- `cv2.RETR_EXTERNAL` : 가장 바깥쪽 윤곽선만 가져옴\n",
    "- `cv2.RETR_LIST` : 모든 윤곽선을 가져오지만 계층 구조 정보는 무시함\n",
    "- `cv2.RETR_TREE` : 모든 윤곽선을 가져오며, 계층 구조도 포함\n",
    "\n",
    "## 윤곽선 근사화 방법\n",
    "- 윤곽선의 점을 얼마나 세밀하게 저장할지 결정\n",
    "- `cv2.CHAIN_APPROX_NONE` : 윤곽선의 모든 점을 저장, 메모리를 많이 사용함\n",
    "- `cv2.CHAIN_APPROX_SIMPLE` : 불필요한 중복 점을 제거하여 메모리 사용을 최적화"
   ]
  },
  {
   "cell_type": "code",
   "execution_count": 2,
   "id": "cba3c096",
   "metadata": {},
   "outputs": [],
   "source": [
    "import cv2 as cv\n",
    "DOG_PATH = \"../images/dog.jpg\""
   ]
  },
  {
   "cell_type": "markdown",
   "id": "5938f677",
   "metadata": {},
   "source": [
    "## 8-1. 윤곽선 검출"
   ]
  },
  {
   "cell_type": "code",
   "execution_count": null,
   "id": "9d8d78d2",
   "metadata": {},
   "outputs": [],
   "source": [
    "img = cv.imread(DOG_PATH)\n",
    "coppied = img.copy()\n",
    "\n",
    "# 그레이 스케일로 변환\n",
    "gray = cv.cvtColor(coppied, cv.COLOR_BGR2GRAY)\n",
    "\n",
    "# 이진화\n",
    "ret, binary = cv.threshold(gray, -1, 255, cv.THRESH_BINARY | cv.THRESH_OTSU)\n",
    "\n",
    "# 윤곽선 찾기\n",
    "contours, hierachy = cv.findContours(binary, cv.RETR_EXTERNAL, cv.CHAIN_APPROX_NONE)\n",
    "\n",
    "# 윤곽선 그리기\n",
    "cv.drawContours(img, contours, -1, (0,255,0), 2)\n",
    "\n",
    "cv.imshow(\"contours\", img)\n",
    "\n",
    "cv.waitKey(0)\n",
    "cv.destroyAllWindows()\n"
   ]
  },
  {
   "cell_type": "code",
   "execution_count": null,
   "id": "0cff582b",
   "metadata": {},
   "outputs": [],
   "source": [
    "img = cv.imread(DOG_PATH)\n",
    "coppied = img.copy()\n",
    "\n",
    "# 그레이 스케일로 변환\n",
    "gray = cv.cvtColor(coppied, cv.COLOR_BGR2GRAY)\n",
    "\n",
    "# 이진화\n",
    "ret, binary = cv.threshold(gray, -1, 255, cv.THRESH_BINARY | cv.THRESH_OTSU)\n",
    "\n",
    "# Canny사용\n",
    "canny = cv.Canny(binary, 50, 150)\n",
    "\n",
    "# 윤곽선 찾기\n",
    "contours, hierachy = cv.findContours(canny, cv.RETR_LIST, cv.CHAIN_APPROX_NONE)\n",
    "\n",
    "# 윤곽선 그리기\n",
    "cv.drawContours(img, contours, -1, (0,255,0), 2)\n",
    "\n",
    "cv.imshow(\"contours\", img)\n",
    "\n",
    "cv.waitKey(0)\n",
    "cv.destroyAllWindows()\n"
   ]
  },
  {
   "cell_type": "markdown",
   "id": "5df0dded",
   "metadata": {},
   "source": [
    "## 8-2. boundingRect\n",
    "- 윤곽선을 둘러싼 사각형"
   ]
  },
  {
   "cell_type": "code",
   "execution_count": 15,
   "id": "7b9f38ab",
   "metadata": {},
   "outputs": [],
   "source": [
    "img = cv.imread(DOG_PATH)\n",
    "coppied = img.copy()\n",
    "\n",
    "gray = cv.cvtColor(img, cv.COLOR_BGR2GRAY)\n",
    "ret, binary = cv.threshold(gray, -1, 255, cv.THRESH_BINARY | cv.THRESH_OTSU)\n",
    "contours, hierachy = cv.findContours(binary, cv.RETR_LIST, cv.CHAIN_APPROX_NONE)\n",
    "\n",
    "for contour in contours:\n",
    "    x, y, width, height = cv.boundingRect(contour)\n",
    "    cv.rectangle(img, (x,y), (x + width, y + height), (255, 255, 0), 2, cv.LINE_AA)\n",
    "\n",
    "\n",
    "cv.imshow(\"Bounding Rect\", img)\n",
    "cv.waitKey(0)\n",
    "cv.destroyAllWindows()"
   ]
  },
  {
   "cell_type": "markdown",
   "id": "739d9260",
   "metadata": {},
   "source": [
    "## 8-3. contourArea\n",
    "- contour의 면적 계산"
   ]
  },
  {
   "cell_type": "code",
   "execution_count": 17,
   "id": "bfda6399",
   "metadata": {},
   "outputs": [],
   "source": [
    "img = cv.imread(DOG_PATH)\n",
    "coppied = img.copy()\n",
    "\n",
    "gray = cv.cvtColor(img, cv.COLOR_BGR2GRAY)\n",
    "ret, binary = cv.threshold(gray, -1, 255, cv.THRESH_BINARY | cv.THRESH_OTSU)\n",
    "contours, hierachy = cv.findContours(binary, cv.RETR_LIST, cv.CHAIN_APPROX_NONE)\n",
    "\n",
    "for contour in contours:\n",
    "    # contour의 면적이 1000보다 크면\n",
    "    if cv.contourArea(contour) > 1000:\n",
    "        x, y, width, height = cv.boundingRect(contour)\n",
    "        cv.rectangle(img, (x,y), (x + width, y + height), (255, 255, 0), 2, cv.LINE_AA)\n",
    "\n",
    "\n",
    "cv.imshow(\"Bounding Rect\", img)\n",
    "cv.waitKey(0)\n",
    "cv.destroyAllWindows()"
   ]
  },
  {
   "cell_type": "code",
   "execution_count": 3,
   "id": "19180e0e",
   "metadata": {},
   "outputs": [],
   "source": [
    "# 실습4. 순서대로 박스 표시\n",
    "VEHICLE_PATH = \"../images/vehicles.png\"\n",
    "img = cv.imread(VEHICLE_PATH)\n",
    "coppied = img.copy()\n",
    "name = \"Vehicles\"\n",
    "cv.namedWindow(name)\n",
    "\n",
    "gray = cv.cvtColor(img, cv.COLOR_BGR2GRAY)\n",
    "ret, binary = cv.threshold(gray, -1, 255, cv.THRESH_BINARY | cv.THRESH_OTSU)\n",
    "contours, hierarchy = cv.findContours(binary, cv.RETR_EXTERNAL, cv.CHAIN_APPROX_SIMPLE)\n",
    "\n",
    "filtered_contours = [] # 윤곽선 중에서 조건을 만족하는 것만 따로 모아 관리\n",
    "for contour in contours:\n",
    "    if cv.contourArea(contour) > 700: # 700px 이하 작은 객체는 제외\n",
    "        filtered_contours.append(contour) # 조건에 맞는 부분만 filtered_contours에 추가\n",
    "\n",
    "# Index 트랙바를 움직이면 특정 차량의 인덱스 선택 가능\n",
    "cv.createTrackbar(\"Index\", name, 0, len(filtered_contours)-1, lambda x:x)\n",
    "\n",
    "while True:\n",
    "    target = img.copy() # 매 프레임마다 원본 복사\n",
    "    index = cv.getTrackbarPos(\"Index\", name) # 트랙바에서 현재 값 읽기\n",
    "    x, y, width, height = cv.boundingRect(filtered_contours[index])\n",
    "    cv.rectangle(target, (x,y), (x+width, y+height), (0,255,0), 2)\n",
    "\n",
    "    cv.imshow(name, target)\n",
    "\n",
    "    if cv.waitKey(1) == ord(\"q\"):\n",
    "        break\n",
    "\n",
    "cv.destroyAllWindows()"
   ]
  },
  {
   "cell_type": "code",
   "execution_count": 20,
   "id": "f3ec2699",
   "metadata": {},
   "outputs": [],
   "source": [
    "# 실습5. 카드 하나씩 새 창에 표시\n",
    "Playing_Cards_PATH = \"../images/playing_cards.png\"\n",
    "img = cv.imread(Playing_Cards_PATH)\n",
    "coppied = img.copy()\n",
    "gray = cv.cvtColor(img, cv.COLOR_BGR2GRAY)\n",
    "ret, binary = cv.threshold(gray, -1, 255, cv.THRESH_BINARY | cv.THRESH_OTSU)\n",
    "contours, _ = cv.findContours(binary, cv.RETR_EXTERNAL, cv.CHAIN_APPROX_SIMPLE)\n",
    "\n",
    "for idx, contour in enumerate(contours): # 윤곽선을 순회하며 카드 후보만 처리\n",
    "    if cv.contourArea(contour) > 1300:\n",
    "        x, y, width, height = cv.boundingRect(contour)\n",
    "\n",
    "        crop = img[y:y+height, x:x+width] # 카드 영역 잘라내기\n",
    "        cv.imshow(f\"Card {idx}\", crop) # 잘라낸 카드 이미지를 새 창으로 표시\n",
    "\n",
    "        cv.rectangle(img, (x, y), (x + width, y + height), (0, 255, 0), 4)\n",
    "\n",
    "cv.imshow(\"Bounding Rect\", img)\n",
    "cv.waitKey(0)\n",
    "cv.destroyAllWindows()\n"
   ]
  },
  {
   "cell_type": "code",
   "execution_count": null,
   "id": "5fdead3f",
   "metadata": {},
   "outputs": [],
   "source": [
    "# 실습5. 카드 하나씩 새 창에 표시(트랙바 이용)\n",
    "Playing_Cards_PATH = \"../images/playing_cards.png\"\n",
    "img = cv.imread(Playing_Cards_PATH)\n",
    "coppied = img.copy()\n",
    "gray = cv.cvtColor(img, cv.COLOR_BGR2GRAY)\n",
    "ret, binary = cv.threshold(gray, -1, 255, cv.THRESH_BINARY | cv.THRESH_OTSU)\n",
    "contours, _ = cv.findContours(binary, cv.RETR_EXTERNAL, cv.CHAIN_APPROX_SIMPLE)\n",
    "\n",
    "crops = [] # 잘라낸 카드 이미지 담을 리스트\n",
    "for idx, contour in enumerate(contours):\n",
    "    if cv.contourArea(contour) > 1300:\n",
    "        x, y, width, height = cv.boundingRect(contour)\n",
    "        cv.rectangle(img, (x, y), (x + width, y + height), (0, 255, 0), 4)\n",
    "        crop = img[y:y+height, x:x+width]\n",
    "        crops.append(crop)\n",
    "\n",
    "# 트랙바 콜백 : 현재 인덱스(val)에 해당하는 카드 보여주기\n",
    "def on_trackbar(val):\n",
    "    target = crops[val] # 리스트에서 선택\n",
    "    cv.imshow(\"Card\", target) # 개별 카드 창에 표시\n",
    "\n",
    "name = \"Origianl\"\n",
    "cv.namedWindow(name)\n",
    "# 트랙바 생성 : 범위(0 ~ len(crops)-1), 이동시 on_trackbar 호출 → \"Card\" 창에 업데이트\n",
    "cv.createTrackbar(\"Index\", name, 0, len(crops)-1, on_trackbar)\n",
    "\n",
    "cv.imshow(name, img)\n",
    "cv.waitKey(0)\n",
    "cv.destroyAllWindows()\n"
   ]
  }
 ],
 "metadata": {
  "kernelspec": {
   "display_name": "cv_learn",
   "language": "python",
   "name": "python3"
  },
  "language_info": {
   "codemirror_mode": {
    "name": "ipython",
    "version": 3
   },
   "file_extension": ".py",
   "mimetype": "text/x-python",
   "name": "python",
   "nbconvert_exporter": "python",
   "pygments_lexer": "ipython3",
   "version": "3.13.5"
  }
 },
 "nbformat": 4,
 "nbformat_minor": 5
}
