{
 "cells": [
  {
   "cell_type": "markdown",
   "id": "33fcfe44",
   "metadata": {},
   "source": [
    "# 02. 비디오 입력 • 출력 • 쓰기\n",
    "- 영상을 재생 한다는 건? : 연속된 이미지를 재생하는 것\n",
    "- 프레임 : 연속된 이미지 중 하나\n",
    "    - fps : frame per second → 1초에 몇 프레임을 재생할건지"
   ]
  },
  {
   "cell_type": "code",
   "execution_count": 1,
   "id": "7cbd78c8",
   "metadata": {},
   "outputs": [],
   "source": [
    "import cv2 as cv\n",
    "Red_Panda_VIDEO_PATH = \"../videos/Red panda.mp4\""
   ]
  },
  {
   "cell_type": "markdown",
   "id": "6b42fcf5",
   "metadata": {},
   "source": [
    "## 2-1. 비디오 파일 입출력\n",
    "- `cv2.VideoCapture(path)` : path의 파일을 불러옴\n",
    "- `VideoCapture.isOpened()` : 파일이 열렸는지를 확인\n",
    "- `VideoCapture.read()` : 파일을 읽어서 frame을 반환\n",
    "    - ret : 프레임이 존재하는지 체크\n",
    "    - frame : 불러온 이미지\n",
    "- `VideoCapture.release()` : 영상 객체를 해제"
   ]
  },
  {
   "cell_type": "code",
   "execution_count": 9,
   "id": "d6ea9543",
   "metadata": {},
   "outputs": [],
   "source": [
    "cap = cv.VideoCapture(Red_Panda_VIDEO_PATH)\n",
    "\n",
    "while cap.isOpened():\n",
    "    ret, frame = cap.read()\n",
    "\n",
    "    if not ret:\n",
    "        break\n",
    "\n",
    "    cv.imshow(\"Video\", frame)\n",
    "\n",
    "    if cv.waitKey(30) == ord(\"q\"):\n",
    "        break\n",
    "\n",
    "cap.release()\n",
    "cv.destroyAllWindows()"
   ]
  },
  {
   "cell_type": "markdown",
   "id": "9cb35590",
   "metadata": {},
   "source": [
    "## 2-2. 영상의 프레임 불러오기\n",
    "- `VideoCapture.get(cv2.CAP_PROP_FPS)`"
   ]
  },
  {
   "cell_type": "code",
   "execution_count": 3,
   "id": "b3e9ded8",
   "metadata": {},
   "outputs": [],
   "source": [
    "cap = cv.VideoCapture(Red_Panda_VIDEO_PATH)\n",
    "fps = cap.get(cv.CAP_PROP_FPS)\n",
    "# print(fps)\n",
    "\n",
    "while cap.isOpened():\n",
    "    ret, frame = cap.read()\n",
    "\n",
    "    if not ret:\n",
    "        break\n",
    "\n",
    "    cv.imshow(\"Video\", frame)\n",
    "\n",
    "    if cv.waitKey(int(1000/fps)) == ord(\"q\"):\n",
    "        break\n",
    "\n",
    "cap.release()\n",
    "cv.destroyAllWindows()"
   ]
  },
  {
   "cell_type": "markdown",
   "id": "82c1f014",
   "metadata": {},
   "source": [
    "## 2-3. 카메라 입출력"
   ]
  },
  {
   "cell_type": "code",
   "execution_count": null,
   "id": "49005c6b",
   "metadata": {},
   "outputs": [],
   "source": [
    "cap = cv.VideoCapture(0) # 카메라 연결 (0은 기본 웹캠)\n",
    "\n",
    "# 카메라가 정상적을 켜져 있는 동안 반복\n",
    "while cap.isOpened():\n",
    "    ret, frame = cap.read() # 카메라에서 프레임(영상 한 장)읽기\n",
    "    # ret: 프레임을 정상적으로 읽었는지 여부 (True/False)\n",
    "    # frame: 실제 영상 데이터 (NumPy 배열 형태)\n",
    "\n",
    "    if not ret: # 프레임을 읽지 못하면 반복 종료\n",
    "        break\n",
    "\n",
    "    cv.imshow(\"Camera\", frame) # 읽은 프레임을 화면에 출력\n",
    "\n",
    "    if cv.waitKey(1) != -1: # 어떤 입력이든 주어지면 break로 반복 종료\n",
    "        break\n",
    "\n",
    "cap.release() # 카메라 지원 해제\n",
    "cv.destroyAllWindows() # 모든 opencv 창 닫기"
   ]
  },
  {
   "cell_type": "code",
   "execution_count": null,
   "id": "6f47ad43",
   "metadata": {},
   "outputs": [],
   "source": [
    "# 카메라 화면에서 캡쳐하기\n",
    "cap = cv.VideoCapture(0)\n",
    "count = 1 # 저장되는 캡쳐 이미지 번호\n",
    "\n",
    "while cap.isOpened(): # 카메라가 켜져 있는 동안 프레임을 계속 읽기\n",
    "    ret, frame = cap.read()\n",
    "\n",
    "    if not ret:\n",
    "        break\n",
    "    \n",
    "    # 현재 프레임 화면에 출력\n",
    "    cv.imshow(\"Camera\", frame) # \"camera\"라는 제목의 창으로 출력\n",
    "\n",
    "    key = cv.waitKey(1)\n",
    "\n",
    "    if key == ord(\"c\"): # \"c\"키 입력 현재 화면 캡쳐 후 파일로 저장\n",
    "        filename = f\"../output/caputer_{count}.png\" # 파일 저장 경로 설정\n",
    "        cv.imwrite(filename, frame) # 현재 frame 이미지를 png 파일로 저장\n",
    "        print(f\"{filename.split(\"/\")[2]} 저장!\") # 저장된 파일명 출력\n",
    "        count += 1\n",
    "\n",
    "    elif key == ord(\"q\"):\n",
    "        break\n",
    "\n",
    "cap.release()\n",
    "cv.destroyAllWindows()"
   ]
  },
  {
   "cell_type": "code",
   "execution_count": 10,
   "id": "8d7b029c",
   "metadata": {},
   "outputs": [],
   "source": [
    "# 카메라 화면의 크기 조절하기\n",
    "cap = cv.VideoCapture(0) # 카메라 연결 (0은 기본 웹캠)\n",
    "cap.set(cv.CAP_PROP_FRAME_WIDTH, 320) # 카메라 화면을 세팅\n",
    "cap.set(cv.CAP_PROP_FRAME_HEIGHT, 240)\n",
    "\n",
    "# 카메라가 정상적을 켜져 있는 동안 반복\n",
    "while cap.isOpened():\n",
    "    ret, frame = cap.read() # 카메라에서 프레임(영상 한 장)읽기\n",
    "    # ret: 프레임을 정상적으로 읽었는지 여부 (True/False)\n",
    "    # frame: 실제 영상 데이터 (NumPy 배열 형태)\n",
    "\n",
    "    if not ret: # 프레임을 읽지 못하면 반복 종료\n",
    "        break\n",
    "\n",
    "    cv.imshow(\"Camera\", frame) # 읽은 프레임을 화면에 출력\n",
    "\n",
    "    if cv.waitKey(1) != -1: # 어떤 입력이든 주어지면 break로 반복 종료\n",
    "        break\n",
    "\n",
    "cap.release() # 카메라 지원 해제\n",
    "cv.destroyAllWindows() # 모든 opencv 창 닫기"
   ]
  },
  {
   "cell_type": "markdown",
   "id": "1a579acd",
   "metadata": {},
   "source": [
    "## 2-4. 비디오 쓰기\n",
    "- `cv2.VideoWriter(path, fourcc, fps, (width,height))` : 영상을 파일로 쓰기 위한 객체 생성\n",
    "- `cv2.VideoWriter_fourcc(fourcc)` : 영상을 쓰기 위한 인코딩 생성\n",
    "    - `fourcc` : 영상의 인코딩 ex) H264"
   ]
  },
  {
   "cell_type": "code",
   "execution_count": 12,
   "id": "9127800e",
   "metadata": {},
   "outputs": [],
   "source": [
    "cap = cv.VideoCapture(Red_Panda_VIDEO_PATH)\n",
    "\n",
    "# print(*\"H264\") # * 언패킹의 의미\n",
    "# VideoWriter 생성\n",
    "fourcc = cv.VideoWriter_fourcc(*\"H264\")\n",
    "fps = cap.get(cv.CAP_PROP_FPS)\n",
    "width = round(cap.get(cv.CAP_PROP_FRAME_WIDTH)) \n",
    "height = round(cap.get(cv.CAP_PROP_FRAME_HEIGHT))\n",
    "out = cv.VideoWriter(\"../output/red_panda_copy.mp4\", fourcc, fps, (width, height))\n",
    "\n",
    "while cap.isOpened:\n",
    "    ret, frame = cap.read()\n",
    "\n",
    "    if not ret:\n",
    "        break\n",
    "\n",
    "    cv.imshow(\"Video\", frame)\n",
    "    out.write(frame)\n",
    "\n",
    "    if cv.waitKey(int(1000/fps)) == ord(\"q\"):\n",
    "        break\n",
    "\n",
    "out.release()\n",
    "cap.release()\n",
    "cv.destroyAllWindows()"
   ]
  }
 ],
 "metadata": {
  "kernelspec": {
   "display_name": "cv_learn",
   "language": "python",
   "name": "python3"
  },
  "language_info": {
   "codemirror_mode": {
    "name": "ipython",
    "version": 3
   },
   "file_extension": ".py",
   "mimetype": "text/x-python",
   "name": "python",
   "nbconvert_exporter": "python",
   "pygments_lexer": "ipython3",
   "version": "3.13.5"
  }
 },
 "nbformat": 4,
 "nbformat_minor": 5
}
