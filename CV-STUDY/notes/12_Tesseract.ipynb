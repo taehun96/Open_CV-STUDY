{
 "cells": [
  {
   "cell_type": "markdown",
   "id": "fdf1d552",
   "metadata": {},
   "source": [
    "# 12. Tesseract - OCR\n",
    "- 광학 문자 인식(OCR) : 이미지를 분석하여 그 안에 포함된 문자나 텍스트를 디지털 데이터로 변환하는 기술\n",
    "- Tesseract : 무료로 제공되는 오픈소스 광학 문자 인식, 이미지나 스캔한 문서에서 텍스트를 추출하는데 사용됨"
   ]
  },
  {
   "cell_type": "code",
   "execution_count": 1,
   "id": "49d93f58",
   "metadata": {},
   "outputs": [],
   "source": [
    "import cv2 as cv\n",
    "import numpy as np\n",
    "from pytesseract import pytesseract as pyt\n",
    "pyt.tesseract_cmd= r\"C:\\Program Files\\Tesseract-OCR\\tesseract.exe\""
   ]
  },
  {
   "cell_type": "code",
   "execution_count": 14,
   "id": "95015045",
   "metadata": {},
   "outputs": [
    {
     "name": "stdout",
     "output_type": "stream",
     "text": [
      "QAR\n",
      "oTS\n",
      "\n",
      "BSB: 230622-0103-0142-01\n",
      "상호:메이크커피\n",
      "220-09~33826 TEL)010-4288-9949 SAIS\n",
      "주소:서물특별시 강남구 강남대로94길 27 (역삼동)\n",
      "\n",
      "1즘\n",
      "\n",
      "테이불번오: KIOSK           주문담담자:관리자\n",
      "\n",
      "계산일자:2023-05-22             시간:13145:06\n",
      "\n",
      "=oe wat\n",
      "\n",
      "아메리카노                      3                  4, 200\n",
      "~>ICE                        3                     0\n",
      "\n",
      "[카 드 번 호] _35651604900634*\n",
      "[할부 개월] 0\n",
      "\n",
      "[카 도 사 명] NATE\n",
      "\n",
      "[a 인 번 호] 51423660\n",
      "\n",
      "(a 제 글 맥] 4,200\n",
      "\n",
      "\n"
     ]
    }
   ],
   "source": [
    "# 이진화 처리 후 적용\n",
    "img = cv.imread(\"../images/bill.png\", cv.IMREAD_GRAYSCALE)\n",
    "\n",
    "ret, binary = cv.threshold(img, -1, 255, cv.THRESH_BINARY | cv.THRESH_OTSU)\n",
    "text = pyt.image_to_string(binary, lang=\"kor+eng\")\n",
    "\n",
    "print(text)"
   ]
  },
  {
   "cell_type": "code",
   "execution_count": null,
   "id": "d8e09929",
   "metadata": {},
   "outputs": [
    {
     "name": "stdout",
     "output_type": "stream",
     "text": [
      "정지\n",
      "STOP\n",
      "\n"
     ]
    }
   ],
   "source": [
    "# 실습4. 이미지에서 글자 인식\n",
    "# 이 이미지는 원본 이미지에서 글자를 잘 인식하지 못합니다.\n",
    "# 이미지에서 글자를 인식할 부분을 선택하면\n",
    "# 해당영역을 잘라내고\n",
    "# 잘라낸 영역의 글자를 인식해서 출력합니다.\n",
    "\n",
    "img = cv.imread(\"../images/stop.png\")\n",
    "\n",
    "name = \"Scanner\" \n",
    "point_list = [] \n",
    "\n",
    "def show_result():\n",
    "    width = int(np.linalg.norm(np.array(point_list[0]) - np.array(point_list[1])))\n",
    "    height = int(np.linalg.norm(np.array(point_list[0]) - np.array(point_list[3])))\n",
    "\n",
    "    src = np.array(point_list, dtype=np.float32)\n",
    "    dst = np.array([[0, 0], [width, 0], [width, height], [0, height]], dtype=np.float32)\n",
    "    mat = cv.getPerspectiveTransform(src, dst)\n",
    "    result = cv.warpPerspective(img, mat, (width, height))\n",
    "\n",
    "    # 이미지 흑백으로 변경\n",
    "    gray = cv.cvtColor(result, cv.COLOR_BGR2GRAY)\n",
    "    # 이진화 처리\n",
    "    _, binary = cv.threshold(gray, -1, 255, cv.THRESH_BINARY | cv.THRESH_OTSU)\n",
    "    # tesseract로 글자 인식\n",
    "    text = pyt.image_to_string(binary, lang=\"kor+eng\")\n",
    "    print(text)\n",
    "\n",
    "    cv.imshow(\"Cropped\", result)\n",
    "\n",
    "drawing = False\n",
    "def on_mouse(event, x, y, flags, _):\n",
    "    global drawing\n",
    "    coppied = img.copy()\n",
    "\n",
    "    if event == cv.EVENT_LBUTTONDOWN:\n",
    "        drawing = True\n",
    "        point = (x,y)\n",
    "        point_list.append(point) \n",
    "\n",
    "    if drawing:\n",
    "        prev_point = None \n",
    "        for p in point_list:\n",
    "            cv.circle(coppied, p, 10,(0,255,255), cv.FILLED) \n",
    "\n",
    "            if prev_point:\n",
    "                cv.line(coppied, prev_point, p, (0,255,255), 5)\n",
    "\n",
    "            prev_point = p\n",
    "\n",
    "        next_point = (x,y) \n",
    "        if len(point_list) == 4:\n",
    "            next_point = point_list[0]\n",
    "            show_result()\n",
    "            drawing = False # 입력 종료(더 이상 좌표 안받음)\n",
    "        cv.line(coppied, point_list[-1], next_point, (0, 255, 255), 5)\n",
    "    cv.imshow(name, coppied)\n",
    "    \n",
    "cv.namedWindow(name)\n",
    "cv.setMouseCallback(name, on_mouse)\n",
    "cv.imshow(name, img)\n",
    "cv.waitKey(0)\n",
    "cv.destroyAllWindows()"
   ]
  }
 ],
 "metadata": {
  "kernelspec": {
   "display_name": "yolo_study",
   "language": "python",
   "name": "python3"
  },
  "language_info": {
   "codemirror_mode": {
    "name": "ipython",
    "version": 3
   },
   "file_extension": ".py",
   "mimetype": "text/x-python",
   "name": "python",
   "nbconvert_exporter": "python",
   "pygments_lexer": "ipython3",
   "version": "3.12.11"
  }
 },
 "nbformat": 4,
 "nbformat_minor": 5
}
