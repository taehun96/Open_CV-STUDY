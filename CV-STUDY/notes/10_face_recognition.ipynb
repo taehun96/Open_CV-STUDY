{
 "cells": [
  {
   "cell_type": "markdown",
   "id": "b58809ca",
   "metadata": {},
   "source": [
    "# 10. 얼굴인식(Haar Cascade)"
   ]
  },
  {
   "cell_type": "code",
   "execution_count": 16,
   "id": "0488e119",
   "metadata": {},
   "outputs": [],
   "source": [
    "import cv2 as cv\n",
    "SONNY = \"../images/son.png\"\n",
    "FAMILY = \"../images/family.jpg\"\n",
    "\n",
    "FACE_CASCADE = \"../cascade/haarcascade_frontalface_default.xml\"\n",
    "EYE_CASCADE = \"../cascade/haarcascade_eye.xml\""
   ]
  },
  {
   "cell_type": "markdown",
   "id": "3b19049d",
   "metadata": {},
   "source": [
    "## 얼굴인식\n",
    "- `cv2.detectMultiScale(image, scaleFactor, minNeighbors, flags, \n",
    "minSize, maxSize)`\n",
    "    - OpenCV의 객체 검출 함수로, 주로 얼굴 검출과 같은 작업에 사용\n",
    "    - `scaleFactor` : 이미지 크기를 얼마나 줄여가며 검출을 진행할지를 결정\n",
    "    - `minNeighbors` 얼마나 많은 주변에 객체로 간주할지를 결정, 값이 크면 더 강한 검출 기준을 설정\n",
    "    - `minSize` : 검출할 객체의 최소 크기"
   ]
  },
  {
   "cell_type": "code",
   "execution_count": 32,
   "id": "e221fccb",
   "metadata": {},
   "outputs": [],
   "source": [
    "face_cascade = cv.CascadeClassifier(FACE_CASCADE)\n",
    "eye_cascade = cv.CascadeClassifier(EYE_CASCADE)\n",
    "\n",
    "img = cv.imread(SONNY)\n",
    "gray = cv.cvtColor(img, cv.COLOR_BGR2GRAY)\n",
    "\n",
    "faces = face_cascade.detectMultiScale(\n",
    "    gray, scaleFactor=1.1, minNeighbors=2, minSize=(10,10)\n",
    ")\n",
    "\n",
    "eyes = eye_cascade.detectMultiScale(\n",
    "    gray, scaleFactor=1.1, minNeighbors=1, maxSize=(10,10)\n",
    ")\n",
    "# print(eyes)\n",
    "# print(faces)\n",
    "if len(faces):\n",
    "    for face in faces:\n",
    "        x, y, width, height = face\n",
    "        cv.rectangle(img, (x,y), (x+width, y+height), (0,255,0), 2, cv.LINE_AA)\n",
    "\n",
    "if len(eyes):\n",
    "    for eye in eyes:\n",
    "        x, y, width, height = eye\n",
    "        cv.rectangle(img, (x,y), (x+width, y+height), (0,255,255), 2, cv.LINE_AA)\n",
    "\n",
    "cv.imshow(\"img\", img)\n",
    "cv.waitKey(0)\n",
    "cv.destroyAllWindows()\n"
   ]
  }
 ],
 "metadata": {
  "kernelspec": {
   "display_name": "cv_learn",
   "language": "python",
   "name": "python3"
  },
  "language_info": {
   "codemirror_mode": {
    "name": "ipython",
    "version": 3
   },
   "file_extension": ".py",
   "mimetype": "text/x-python",
   "name": "python",
   "nbconvert_exporter": "python",
   "pygments_lexer": "ipython3",
   "version": "3.13.5"
  }
 },
 "nbformat": 4,
 "nbformat_minor": 5
}
