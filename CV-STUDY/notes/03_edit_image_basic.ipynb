{
 "cells": [
  {
   "cell_type": "markdown",
   "id": "e3e4b6cd",
   "metadata": {},
   "source": [
    "# 03. 이미지 기본 조작\n",
    "- 데이터를 처리하여 이미지를 조작하는 것이 근본적 목적\n",
    "- 이미지를 픽셀 데이터로 보고 이를 수학적·프로그래밍적으로 처리하여 의미 있는 정보로 바꾸는 것"
   ]
  },
  {
   "cell_type": "code",
   "execution_count": 2,
   "id": "4594cb86",
   "metadata": {},
   "outputs": [],
   "source": [
    "import cv2 as cv\n",
    "import numpy as np\n",
    "FALL_PATH = \"../images/fall.jpg\"\n",
    "DOG_PATH = \"../images/dog.jpg\""
   ]
  },
  {
   "cell_type": "markdown",
   "id": "ddebcc16",
   "metadata": {},
   "source": [
    "## 3-1. 빈 화면 만들기\n",
    "- NumPy 배열로 이미지를 출력할 수 있음\n",
    "- 데이터 타입을 uint8로 설정\n",
    "    - uint = unsinged integer → 부호가 없는 정수 = 0, 양수\n",
    "    - 0 ~ 255까지 표현할 수 있는 수"
   ]
  },
  {
   "cell_type": "code",
   "execution_count": 2,
   "id": "1c93e2d9",
   "metadata": {},
   "outputs": [],
   "source": [
    "# 검은 화면 만들기(0:검은색)\n",
    "img = np.zeros((460, 640, 3), dtype=np.uint8)\n",
    "cv.imshow(\"Black\", img)\n",
    "cv.waitKey(0)\n",
    "cv.destroyAllWindows()"
   ]
  },
  {
   "cell_type": "markdown",
   "id": "78d36322",
   "metadata": {},
   "source": [
    "## 3-2. 화면 일부 색칠하기 & 자르기"
   ]
  },
  {
   "cell_type": "code",
   "execution_count": 15,
   "id": "7e0b91c8",
   "metadata": {},
   "outputs": [],
   "source": [
    "# 화면 일부 색칠하기\n",
    "\n",
    "img = np.zeros((460, 640, 3), dtype=np.uint8)\n",
    "img[200:300, 300:400] = (0,255,0)\n",
    "# img[:] = (255,255,255)\n",
    "\n",
    "cv.imshow(\"Paint Color\", img)\n",
    "cv.waitKey(0)\n",
    "cv.destroyAllWindows()"
   ]
  },
  {
   "cell_type": "code",
   "execution_count": null,
   "id": "38fc4767",
   "metadata": {},
   "outputs": [],
   "source": [
    "# 이미지에 색칠하기\n",
    "img = cv.imread(FALL_PATH)\n",
    "img[200:300, 200:400] = (0,0,255)\n",
    "cv.imshow(\"dog\", img)\n",
    "cv.waitKey(0)\n",
    "cv.destroyAllWindows()"
   ]
  },
  {
   "cell_type": "code",
   "execution_count": 22,
   "id": "a5e182d2",
   "metadata": {},
   "outputs": [],
   "source": [
    "# 이미지 자르기\n",
    "img = cv.imread(DOG_PATH)\n",
    "\n",
    "crop = img[20:160, 70:200]\n",
    "\n",
    "img[0:140, 0:130] = crop\n",
    "\n",
    "cv.imshow(\"img\", img)\n",
    "# cv.imshow(\"Cropped\", crop)\n",
    "cv.waitKey(0)\n",
    "cv.destroyAllWindows()"
   ]
  },
  {
   "cell_type": "markdown",
   "id": "0e65500e",
   "metadata": {},
   "source": [
    "## 3-3. 얕은 복사 깊은 복사\n",
    "- 얕은 복사(shallow copy)\n",
    "    - 원본 이미지와 복사본이 같은 메모리를 공유\n",
    "    - 복사본에서 이미지를 수정하면 원본도 함께 바뀜\n",
    "- 깊은 복사(deep copy)\n",
    "    - 복사본에서 이미지를 수정해도 원본에는 영향을 주지 않음"
   ]
  },
  {
   "cell_type": "code",
   "execution_count": 14,
   "id": "dc0f5d4d",
   "metadata": {},
   "outputs": [],
   "source": [
    "img = np.zeros((460, 640, 3), dtype=np.uint8)\n",
    "\n",
    "# 얕은 복사\n",
    "shallow_copy = img[200:400, 200:400]\n",
    "shallow_copy[:] = ((255, 0, 255))\n",
    "\n",
    "# 깊은 복사\n",
    "deep_copy = img[200:400, 200:400].copy()\n",
    "deep_copy[:] = (255, 255, 0)\n",
    "\n",
    "cv.imshow(\"original\", img)\n",
    "cv.imshow(\"shallow_copy\", shallow_copy)\n",
    "cv.imshow(\"deep_copy\", deep_copy)\n",
    "cv.waitKey(0)\n",
    "cv.destroyAllWindows()"
   ]
  },
  {
   "cell_type": "markdown",
   "id": "b21415e7",
   "metadata": {},
   "source": [
    "## 3-4. 색상 변경\n",
    "- 데이터의 형태를 바꿈\n",
    "- `cv.cvtColor(img, code)`\n",
    "- `cv.COLOR_BGR2GRAY` : OpenCV에서 컬러 이미지를 흑백(Grayscale) 이미지로 변환할 때 사용하는 컬러 변환 코드\n",
    "- `cv.COLOR_BGR2RGB` : OpenCV에서 기본 BGR 색상 순서를 RGB로 변환할 때 사용하는 컬러 변환 코드"
   ]
  },
  {
   "cell_type": "code",
   "execution_count": 15,
   "id": "dec2b2b7",
   "metadata": {},
   "outputs": [],
   "source": [
    "img = cv.imread(FALL_PATH)\n",
    "gray = cv.cvtColor(img, cv.COLOR_BGR2GRAY)\n",
    "rgb = cv.cvtColor(img, cv.COLOR_BGR2RGB)\n",
    "\n",
    "# print(img)\n",
    "\n",
    "cv.imshow(\"img\", img)\n",
    "cv.imshow(\"gray\", gray)\n",
    "cv.imshow(\"rgb\", rgb)\n",
    "\n",
    "cv.waitKey(0)\n",
    "cv.destroyAllWindows()"
   ]
  },
  {
   "cell_type": "code",
   "execution_count": 16,
   "id": "4948c28c",
   "metadata": {},
   "outputs": [],
   "source": [
    "# 색상 반전\n",
    "# 반전값 = 255 - 현재값\n",
    "img = cv.imread(FALL_PATH)\n",
    "\n",
    "gray = cv.cvtColor(img, cv.COLOR_BGR2GRAY)\n",
    "inverted = 255 - gray\n",
    "\n",
    "cv.imshow(\"gray\", gray)\n",
    "cv.imshow(\"inverted\", inverted)\n",
    "cv.waitKey(0)\n",
    "cv.destroyAllWindows()"
   ]
  },
  {
   "cell_type": "markdown",
   "id": "bf63d4a5",
   "metadata": {},
   "source": [
    "## 3-5. 이미지 채널 분리와 병합\n",
    "- `cv2.split(img)` : 이미지 채널 분리\n",
    "- `cv2.merge([b,g,r])` : 이미지 채널 병합\n",
    "- 분리, 병합하는 이유 : 독립적 제어, 데이터 분석, 객체 검출, 필터 적용, 영상 합성"
   ]
  },
  {
   "cell_type": "code",
   "execution_count": 33,
   "id": "6a622b5e",
   "metadata": {},
   "outputs": [],
   "source": [
    "img = cv.imread(FALL_PATH)\n",
    "b, g, r = cv.split(img)\n",
    "\n",
    "cv.imshow(\"Blue\", b)\n",
    "cv.imshow(\"Green\", g)\n",
    "cv.imshow(\"Red\", r)\n",
    "\n",
    "merged = cv.merge([b, g, r])\n",
    "cv.imshow(\"Merged Image\", merged)\n",
    "\n",
    "cv.waitKey(0)\n",
    "cv.destroyAllWindows()"
   ]
  },
  {
   "cell_type": "markdown",
   "id": "b9c86b04",
   "metadata": {},
   "source": [
    "## 3-6. 이미지 리사이즈\n",
    "- `cv2.resize(img, (size), fx, fy, interpolation)`\n",
    "    - (size) : 사이즈를 직접 입력할 경우\n",
    "    - fx, fy : 비율로 사이즈를 조정할 경우\n",
    "    - interpolation : 보간법(이미지를 조정할 때 생기는 픽셀 사이의 빈 공간을 채우는 방법)\n",
    "- nearest 방식\n",
    "- bilinear 방식\n",
    "\n",
    "- interpolation(보간법) 종류\n",
    "    - INTER_LINEAR : 양선형 보간법(기본값) (2x2 이웃 픽셀 참조)\n",
    "    - INTER_CUBIC : 3차회선 보간법 (4x4 이웃 픽셀 참조)"
   ]
  },
  {
   "cell_type": "code",
   "execution_count": 31,
   "id": "ceb28dbd",
   "metadata": {},
   "outputs": [],
   "source": [
    "img = cv.imread(FALL_PATH)\n",
    "img.shape\n",
    "\n",
    "# dst = cv.resize(img, (688,688))\n",
    "near = cv.resize(img, None, fx=3, fy=3, interpolation= cv.INTER_NEAREST)\n",
    "cubic = cv.resize(img,None, fx=3, fy=3, interpolation= cv.INTER_CUBIC)\n",
    "\n",
    "cv.imshow(\"original\", img)\n",
    "# cv.imshow(\"resized\", dst)\n",
    "cv.imshow(\"Nearest\", near)\n",
    "cv.imshow(\"Cubic\", cubic)\n",
    "\n",
    "cv.waitKey(0)\n",
    "cv.destroyAllWindows()"
   ]
  },
  {
   "cell_type": "code",
   "execution_count": 30,
   "id": "9c5e6711",
   "metadata": {},
   "outputs": [],
   "source": [
    "# 실습5. 영상 리사이즈해서 출력\n",
    "Red_Panda_VIDEO_PATH = \"../videos/Red panda.mp4\"\n",
    "cap = cv.VideoCapture(Red_Panda_VIDEO_PATH)\n",
    "\n",
    "while cap.isOpened():\n",
    "    ret, frame = cap.read() # 한 프레임씩 읽기\n",
    "    \n",
    "    if not ret:\n",
    "        break\n",
    "\n",
    "    resized = cv.resize(frame, None, fx=1.5, fy=1.5, interpolation=cv.INTER_CUBIC)\n",
    "\n",
    "    cv.imshow(\"Original Video\", frame)\n",
    "    cv.imshow(\"Resize Video(x1.5)\", resized)\n",
    "\n",
    "    if cv.waitKey(30) == ord(\"q\"):\n",
    "        break\n",
    "\n",
    "cap.release()\n",
    "cv.destroyAllWindows()\n"
   ]
  },
  {
   "cell_type": "markdown",
   "id": "38aca890",
   "metadata": {},
   "source": [
    "## 3-7. 이미지 피라미드\n",
    "- 고정된 비율로 이미지를 확대/축소\n",
    "- 단, 확대/축소시 가우시안 블러 처리를 통해 이미지를 부드럽게 변환\n",
    "- 가우시안 블러 : 이미지를 부드럽게 만들기 위해 사용되는 영상 처리 기법 중 하나\n",
    "- `cv2.pyrUp(img)` : 이미지를 2배 키움\n",
    "- `cv2.pyrDown(img)` : 이미지를 1/2로 줄임"
   ]
  },
  {
   "cell_type": "code",
   "execution_count": 34,
   "id": "44635a1f",
   "metadata": {},
   "outputs": [],
   "source": [
    "img = cv.imread(FALL_PATH)\n",
    "\n",
    "size_up = cv.pyrUp(img)\n",
    "size_down = cv.pyrDown(img)\n",
    "\n",
    "cv.imshow(\"Orginal\", img)\n",
    "cv.imshow(\"Up\", size_up)\n",
    "cv.imshow(\"Down\", size_down)\n",
    "\n",
    "cv.waitKey(0)\n",
    "cv.destroyAllWindows()"
   ]
  },
  {
   "cell_type": "markdown",
   "id": "155d297b",
   "metadata": {},
   "source": [
    "## 3-8. 이미지 대칭\n",
    "- `cv2.flip(img, code)`\n",
    "    - code : 대칭의 방향을 지정\n",
    "        - code > 0 : y축 반전(좌우반전)\n",
    "        - code == 0 : x축 반전(상하반전)\n",
    "        - code < 0 : x,y축 반전(상하좌우반전)"
   ]
  },
  {
   "cell_type": "code",
   "execution_count": 41,
   "id": "8a1462dc",
   "metadata": {},
   "outputs": [],
   "source": [
    "img = cv.imread(DOG_PATH)\n",
    "\n",
    "flip_y = cv.flip(img, 1)\n",
    "flip_x = cv.flip(img, 0)\n",
    "flip_xy = cv.flip(img, -1)\n",
    "\n",
    "cv.imshow(\"Original\", img)\n",
    "cv.imshow(\"Flip y\", flip_y)\n",
    "cv.imshow(\"Flip x\", flip_x)\n",
    "cv.imshow(\"Flip xy\", flip_xy)\n",
    "\n",
    "cv.waitKey(0)\n",
    "cv.destroyAllWindows()"
   ]
  },
  {
   "cell_type": "code",
   "execution_count": 7,
   "id": "138225fb",
   "metadata": {},
   "outputs": [],
   "source": [
    "# 실습6 이미지 조정\n",
    "PBY_PATH = \"../images/PBY.png\"\n",
    "img = cv.imread(PBY_PATH)\n",
    "\n",
    "# 원본 이미지 가로 세로 1/2축소\n",
    "dst = cv.resize(img, None, fx=0.5, fy=0.5) \n",
    "# 이미지 좌우 반전\n",
    "dst = cv.flip(dst, 1)\n",
    "\n",
    "height, width, channel = img.shape\n",
    "h2, w2, _ = dst.shape\n",
    "\n",
    "y_start = height - h2\n",
    "x_start = width - w2\n",
    "y_end = y_start + h2\n",
    "x_end = x_start + w2\n",
    "\n",
    "# 이미지 우하단 배치\n",
    "img[y_start:y_end, x_start:x_end] = dst\n",
    "\n",
    "\n",
    "cv.imshow(\"img\", img)\n",
    "cv.imwrite(\"../output/pby.jpg\", img)\n",
    "\n",
    "cv.waitKey(0)\n",
    "cv.destroyAllWindows()\n"
   ]
  }
 ],
 "metadata": {
  "kernelspec": {
   "display_name": "cv_learn",
   "language": "python",
   "name": "python3"
  },
  "language_info": {
   "codemirror_mode": {
    "name": "ipython",
    "version": 3
   },
   "file_extension": ".py",
   "mimetype": "text/x-python",
   "name": "python",
   "nbconvert_exporter": "python",
   "pygments_lexer": "ipython3",
   "version": "3.13.5"
  }
 },
 "nbformat": 4,
 "nbformat_minor": 5
}
