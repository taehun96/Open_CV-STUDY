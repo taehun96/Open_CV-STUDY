{
 "cells": [
  {
   "cell_type": "markdown",
   "id": "0f76096e",
   "metadata": {},
   "source": [
    "# 11. YOLO\n",
    "- You Only Look Detection\n",
    "- 딥러닝을 활용한 객체 탐지 알고리즘 중 하나\n",
    "- 이미지나 동영상에서 여러 객체를 빠르고 정확하게 탐지하는데 사용\n",
    "- YOLO는 이미지를 한 번만 처리하여 객체를 탐지\n",
    "\n",
    "## 특징\n",
    "- 실시간 처리\n",
    "- 단일 신경망 구조 : 이미지 전체를 한 번에 처리하여 객체를 탐지하는 단일 신경망 구조를 사용함\n",
    "- 높은 정확도 : YOLO는 빠른 속도뿐만 아니라 높은 정확도로 객체를 탐지할 수 있음"
   ]
  },
  {
   "cell_type": "code",
   "execution_count": null,
   "id": "0215de7f",
   "metadata": {},
   "outputs": [],
   "source": [
    "from ultralytics import YOLO\n",
    "import cv2 as cv\n",
    "import numpy as np\n",
    "WOMEN = \"../images/women.jpg\""
   ]
  },
  {
   "cell_type": "markdown",
   "id": "0e374e33",
   "metadata": {},
   "source": [
    "## model = YOLO('yolo11n.pt')의미\n",
    "- 사전 학습된 YOLO 모델 파일\n",
    "- `yolo11` : YOLO v11 버전\n",
    "- `n` : nano 버전(가장 작은 모델, 속도 빠름, 정확도 낮음)\n",
    "- `.pt` : PyTorch 형식의 모델 가중치 파일"
   ]
  },
  {
   "cell_type": "code",
   "execution_count": null,
   "id": "6226b456",
   "metadata": {},
   "outputs": [],
   "source": [
    "# YOLO 모델 불러오기\n",
    "# conf : 신뢰도\n",
    "model = YOLO('yolo11n.pt')\n",
    "img = cv.imread(\"../images/person_dog.jpg\")\n",
    "\n",
    "# 객체 인식, 신뢰도 0.5\n",
    "results = model.predict(source=img, conf=0.5)\n",
    "\n",
    "# print(results)\n",
    "\n",
    "# 탐지 결과를 이미지 위에 그려줌\n",
    "annotated_frame = results[0].plot()\n",
    "# print(annotated_frame) # 사람과 강아지를 인식한 결과를 볼 수 있음\n",
    "\n",
    "cv.imshow(\"img\", annotated_frame)\n",
    "cv.waitKey(0)\n",
    "cv.destroyAllWindows()\n",
    "\n",
    "# YOLO.predict()는 입력 이미지가 여러장 일 수 있기 때문에 항상 여러 개의 결과를담은 리스트를 돌려줌\n",
    "# 따라서 result[0]는 첫 번째 이미지의 탐지 결과를 의미"
   ]
  },
  {
   "cell_type": "code",
   "execution_count": null,
   "id": "3f982977",
   "metadata": {},
   "outputs": [],
   "source": [
    "# 다른 사진 연습\n",
    "# YOLO 모델 불러오기\n",
    "model = YOLO('yolo11n.pt')\n",
    "img = cv.imread(\"../images/friends.jpg\")\n",
    "resized = cv.resize(img, None, fx=0.3, fy=0.3, interpolation= cv.INTER_NEAREST)\n",
    "\n",
    "# 객체 인식, 신뢰도 0.5\n",
    "results = model.predict(source=resized, conf=0.5)\n",
    "\n",
    "# print(results)\n",
    "\n",
    "# 탐지 결과를 이미지 위에 그려줌\n",
    "annotated_frame = results[0].plot()\n",
    "# print(annotated_frame) # 사람과 강아지를 인식한 결과를 볼 수 있음\n",
    "\n",
    "cv.imshow(\"img\", annotated_frame)\n",
    "cv.waitKey(0)\n",
    "cv.destroyAllWindows()"
   ]
  },
  {
   "cell_type": "code",
   "execution_count": null,
   "id": "3d28ca4a",
   "metadata": {},
   "outputs": [],
   "source": [
    "# 영상 인식\n",
    "# 영상은 기본적으로 사진의 연속임으로 각 프레임마다 별도로 추론을 수행함\n",
    "# 따라서 영상일때는 1frame당 실시간보다 느려 보이게 됨\n",
    "cap = cv.VideoCapture(\"../videos/cars.mp4\")\n",
    "model = YOLO(\"yolo11n.pt\")\n",
    "fps = cap.get(cv.CAP_PROP_FPS)\n",
    "\n",
    "while cap.isOpened():\n",
    "    ret, frame = cap.read()\n",
    "\n",
    "    if not ret:\n",
    "        break\n",
    "\n",
    "    result = model.predict(frame, conf=0.5)\n",
    "    annotated_frame = result[0].plot()\n",
    "    cv.imshow(\"cars\", annotated_frame)\n",
    "\n",
    "    if cv.waitKey(int(1000/fps)) == ord(\"q\"):\n",
    "        break\n",
    "\n",
    "cap.release()\n",
    "cv.destroyAllWindows()"
   ]
  },
  {
   "cell_type": "code",
   "execution_count": null,
   "id": "d4b6922f",
   "metadata": {},
   "outputs": [],
   "source": [
    "# 실습3. 캠화면에 적용\n",
    "# YOLO 모델의 객체 감지를 캠화면에 적용하여 출력\n",
    "model = YOLO(\"yolo11n.pt\")\n",
    "cap = cv.VideoCapture(0)\n",
    "\n",
    "while True:\n",
    "    ret, frame = cap.read()\n",
    "    if not ret:\n",
    "        break\n",
    "\n",
    "    results = model.predict(source=frame, conf=0.5)\n",
    "\n",
    "    annotated_frame = results[0].plot()\n",
    "\n",
    "    cv.imshow(\"Practice YOLO\", annotated_frame)\n",
    "\n",
    "    if cv.waitKey(1) == ord(\"q\"):\n",
    "        break\n",
    "\n",
    "cap.release()\n",
    "cv.destroyAllWindows()\n"
   ]
  }
 ],
 "metadata": {
  "kernelspec": {
   "display_name": "yolo_study",
   "language": "python",
   "name": "python3"
  },
  "language_info": {
   "codemirror_mode": {
    "name": "ipython",
    "version": 3
   },
   "file_extension": ".py",
   "mimetype": "text/x-python",
   "name": "python",
   "nbconvert_exporter": "python",
   "pygments_lexer": "ipython3",
   "version": "3.12.11"
  }
 },
 "nbformat": 4,
 "nbformat_minor": 5
}
